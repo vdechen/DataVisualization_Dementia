{
 "cells": [
  {
   "cell_type": "code",
   "execution_count": 1,
   "id": "807f7904",
   "metadata": {
    "ExecuteTime": {
     "end_time": "2023-02-10T20:54:24.304856Z",
     "start_time": "2023-02-10T20:54:22.786094Z"
    },
    "collapsed": true
   },
   "outputs": [
    {
     "ename": "FileNotFoundError",
     "evalue": "[Errno 2] No such file or directory: 'C:\\\\Users\\\\Vanessa\\\\Downloads\\\\Ironhack\\\\M02-L05-introduction_to_API\\\\dementia_19950101_19960101.csv'",
     "output_type": "error",
     "traceback": [
      "\u001b[1;31m---------------------------------------------------------------------------\u001b[0m",
      "\u001b[1;31mFileNotFoundError\u001b[0m                         Traceback (most recent call last)",
      "Input \u001b[1;32mIn [1]\u001b[0m, in \u001b[0;36m<cell line: 6>\u001b[1;34m()\u001b[0m\n\u001b[0;32m      4\u001b[0m \u001b[38;5;28;01mimport\u001b[39;00m \u001b[38;5;21;01mre\u001b[39;00m\n\u001b[0;32m      5\u001b[0m query \u001b[38;5;241m=\u001b[39m \u001b[38;5;124m'\u001b[39m\u001b[38;5;124mdementia\u001b[39m\u001b[38;5;124m'\u001b[39m\n\u001b[1;32m----> 6\u001b[0m d1 \u001b[38;5;241m=\u001b[39m \u001b[43mpd\u001b[49m\u001b[38;5;241;43m.\u001b[39;49m\u001b[43mread_csv\u001b[49m\u001b[43m(\u001b[49m\u001b[38;5;124;43mr\u001b[39;49m\u001b[38;5;124;43m'\u001b[39;49m\u001b[38;5;124;43mC:\u001b[39;49m\u001b[38;5;124;43m\\\u001b[39;49m\u001b[38;5;124;43mUsers\u001b[39;49m\u001b[38;5;124;43m\\\u001b[39;49m\u001b[38;5;124;43mVanessa\u001b[39;49m\u001b[38;5;124;43m\\\u001b[39;49m\u001b[38;5;124;43mDownloads\u001b[39;49m\u001b[38;5;124;43m\\\u001b[39;49m\u001b[38;5;124;43mIronhack\u001b[39;49m\u001b[38;5;124;43m\\\u001b[39;49m\u001b[38;5;124;43mM02-L05-introduction_to_API\u001b[39;49m\u001b[38;5;124;43m\\\u001b[39;49m\u001b[38;5;124;43mdementia_19950101_19960101.csv\u001b[39;49m\u001b[38;5;124;43m'\u001b[39;49m\u001b[43m)\u001b[49m\n\u001b[0;32m      7\u001b[0m d2 \u001b[38;5;241m=\u001b[39m pd\u001b[38;5;241m.\u001b[39mread_csv(\u001b[38;5;124mr\u001b[39m\u001b[38;5;124m'\u001b[39m\u001b[38;5;124mC:\u001b[39m\u001b[38;5;124m\\\u001b[39m\u001b[38;5;124mUsers\u001b[39m\u001b[38;5;124m\\\u001b[39m\u001b[38;5;124mVanessa\u001b[39m\u001b[38;5;124m\\\u001b[39m\u001b[38;5;124mDownloads\u001b[39m\u001b[38;5;124m\\\u001b[39m\u001b[38;5;124mIronhack\u001b[39m\u001b[38;5;124m\\\u001b[39m\u001b[38;5;124mM02-L05-introduction_to_API\u001b[39m\u001b[38;5;124m\\\u001b[39m\u001b[38;5;124mdementia_19960101_19970101.csv\u001b[39m\u001b[38;5;124m'\u001b[39m)\n\u001b[0;32m      8\u001b[0m d3 \u001b[38;5;241m=\u001b[39m pd\u001b[38;5;241m.\u001b[39mread_csv(\u001b[38;5;124mr\u001b[39m\u001b[38;5;124m'\u001b[39m\u001b[38;5;124mC:\u001b[39m\u001b[38;5;124m\\\u001b[39m\u001b[38;5;124mUsers\u001b[39m\u001b[38;5;124m\\\u001b[39m\u001b[38;5;124mVanessa\u001b[39m\u001b[38;5;124m\\\u001b[39m\u001b[38;5;124mDownloads\u001b[39m\u001b[38;5;124m\\\u001b[39m\u001b[38;5;124mIronhack\u001b[39m\u001b[38;5;124m\\\u001b[39m\u001b[38;5;124mM02-L05-introduction_to_API\u001b[39m\u001b[38;5;124m\\\u001b[39m\u001b[38;5;124mdementia_19970101_19980101.csv\u001b[39m\u001b[38;5;124m'\u001b[39m)\n",
      "File \u001b[1;32m~\\AppData\\Roaming\\Python\\Python39\\site-packages\\pandas\\util\\_decorators.py:211\u001b[0m, in \u001b[0;36mdeprecate_kwarg.<locals>._deprecate_kwarg.<locals>.wrapper\u001b[1;34m(*args, **kwargs)\u001b[0m\n\u001b[0;32m    209\u001b[0m     \u001b[38;5;28;01melse\u001b[39;00m:\n\u001b[0;32m    210\u001b[0m         kwargs[new_arg_name] \u001b[38;5;241m=\u001b[39m new_arg_value\n\u001b[1;32m--> 211\u001b[0m \u001b[38;5;28;01mreturn\u001b[39;00m func(\u001b[38;5;241m*\u001b[39margs, \u001b[38;5;241m*\u001b[39m\u001b[38;5;241m*\u001b[39mkwargs)\n",
      "File \u001b[1;32m~\\AppData\\Roaming\\Python\\Python39\\site-packages\\pandas\\util\\_decorators.py:331\u001b[0m, in \u001b[0;36mdeprecate_nonkeyword_arguments.<locals>.decorate.<locals>.wrapper\u001b[1;34m(*args, **kwargs)\u001b[0m\n\u001b[0;32m    325\u001b[0m \u001b[38;5;28;01mif\u001b[39;00m \u001b[38;5;28mlen\u001b[39m(args) \u001b[38;5;241m>\u001b[39m num_allow_args:\n\u001b[0;32m    326\u001b[0m     warnings\u001b[38;5;241m.\u001b[39mwarn(\n\u001b[0;32m    327\u001b[0m         msg\u001b[38;5;241m.\u001b[39mformat(arguments\u001b[38;5;241m=\u001b[39m_format_argument_list(allow_args)),\n\u001b[0;32m    328\u001b[0m         \u001b[38;5;167;01mFutureWarning\u001b[39;00m,\n\u001b[0;32m    329\u001b[0m         stacklevel\u001b[38;5;241m=\u001b[39mfind_stack_level(),\n\u001b[0;32m    330\u001b[0m     )\n\u001b[1;32m--> 331\u001b[0m \u001b[38;5;28;01mreturn\u001b[39;00m func(\u001b[38;5;241m*\u001b[39margs, \u001b[38;5;241m*\u001b[39m\u001b[38;5;241m*\u001b[39mkwargs)\n",
      "File \u001b[1;32m~\\AppData\\Roaming\\Python\\Python39\\site-packages\\pandas\\io\\parsers\\readers.py:950\u001b[0m, in \u001b[0;36mread_csv\u001b[1;34m(filepath_or_buffer, sep, delimiter, header, names, index_col, usecols, squeeze, prefix, mangle_dupe_cols, dtype, engine, converters, true_values, false_values, skipinitialspace, skiprows, skipfooter, nrows, na_values, keep_default_na, na_filter, verbose, skip_blank_lines, parse_dates, infer_datetime_format, keep_date_col, date_parser, dayfirst, cache_dates, iterator, chunksize, compression, thousands, decimal, lineterminator, quotechar, quoting, doublequote, escapechar, comment, encoding, encoding_errors, dialect, error_bad_lines, warn_bad_lines, on_bad_lines, delim_whitespace, low_memory, memory_map, float_precision, storage_options)\u001b[0m\n\u001b[0;32m    935\u001b[0m kwds_defaults \u001b[38;5;241m=\u001b[39m _refine_defaults_read(\n\u001b[0;32m    936\u001b[0m     dialect,\n\u001b[0;32m    937\u001b[0m     delimiter,\n\u001b[1;32m   (...)\u001b[0m\n\u001b[0;32m    946\u001b[0m     defaults\u001b[38;5;241m=\u001b[39m{\u001b[38;5;124m\"\u001b[39m\u001b[38;5;124mdelimiter\u001b[39m\u001b[38;5;124m\"\u001b[39m: \u001b[38;5;124m\"\u001b[39m\u001b[38;5;124m,\u001b[39m\u001b[38;5;124m\"\u001b[39m},\n\u001b[0;32m    947\u001b[0m )\n\u001b[0;32m    948\u001b[0m kwds\u001b[38;5;241m.\u001b[39mupdate(kwds_defaults)\n\u001b[1;32m--> 950\u001b[0m \u001b[38;5;28;01mreturn\u001b[39;00m \u001b[43m_read\u001b[49m\u001b[43m(\u001b[49m\u001b[43mfilepath_or_buffer\u001b[49m\u001b[43m,\u001b[49m\u001b[43m \u001b[49m\u001b[43mkwds\u001b[49m\u001b[43m)\u001b[49m\n",
      "File \u001b[1;32m~\\AppData\\Roaming\\Python\\Python39\\site-packages\\pandas\\io\\parsers\\readers.py:605\u001b[0m, in \u001b[0;36m_read\u001b[1;34m(filepath_or_buffer, kwds)\u001b[0m\n\u001b[0;32m    602\u001b[0m _validate_names(kwds\u001b[38;5;241m.\u001b[39mget(\u001b[38;5;124m\"\u001b[39m\u001b[38;5;124mnames\u001b[39m\u001b[38;5;124m\"\u001b[39m, \u001b[38;5;28;01mNone\u001b[39;00m))\n\u001b[0;32m    604\u001b[0m \u001b[38;5;66;03m# Create the parser.\u001b[39;00m\n\u001b[1;32m--> 605\u001b[0m parser \u001b[38;5;241m=\u001b[39m TextFileReader(filepath_or_buffer, \u001b[38;5;241m*\u001b[39m\u001b[38;5;241m*\u001b[39mkwds)\n\u001b[0;32m    607\u001b[0m \u001b[38;5;28;01mif\u001b[39;00m chunksize \u001b[38;5;129;01mor\u001b[39;00m iterator:\n\u001b[0;32m    608\u001b[0m     \u001b[38;5;28;01mreturn\u001b[39;00m parser\n",
      "File \u001b[1;32m~\\AppData\\Roaming\\Python\\Python39\\site-packages\\pandas\\io\\parsers\\readers.py:1442\u001b[0m, in \u001b[0;36mTextFileReader.__init__\u001b[1;34m(self, f, engine, **kwds)\u001b[0m\n\u001b[0;32m   1439\u001b[0m     \u001b[38;5;28mself\u001b[39m\u001b[38;5;241m.\u001b[39moptions[\u001b[38;5;124m\"\u001b[39m\u001b[38;5;124mhas_index_names\u001b[39m\u001b[38;5;124m\"\u001b[39m] \u001b[38;5;241m=\u001b[39m kwds[\u001b[38;5;124m\"\u001b[39m\u001b[38;5;124mhas_index_names\u001b[39m\u001b[38;5;124m\"\u001b[39m]\n\u001b[0;32m   1441\u001b[0m \u001b[38;5;28mself\u001b[39m\u001b[38;5;241m.\u001b[39mhandles: IOHandles \u001b[38;5;241m|\u001b[39m \u001b[38;5;28;01mNone\u001b[39;00m \u001b[38;5;241m=\u001b[39m \u001b[38;5;28;01mNone\u001b[39;00m\n\u001b[1;32m-> 1442\u001b[0m \u001b[38;5;28mself\u001b[39m\u001b[38;5;241m.\u001b[39m_engine \u001b[38;5;241m=\u001b[39m \u001b[38;5;28;43mself\u001b[39;49m\u001b[38;5;241;43m.\u001b[39;49m\u001b[43m_make_engine\u001b[49m\u001b[43m(\u001b[49m\u001b[43mf\u001b[49m\u001b[43m,\u001b[49m\u001b[43m \u001b[49m\u001b[38;5;28;43mself\u001b[39;49m\u001b[38;5;241;43m.\u001b[39;49m\u001b[43mengine\u001b[49m\u001b[43m)\u001b[49m\n",
      "File \u001b[1;32m~\\AppData\\Roaming\\Python\\Python39\\site-packages\\pandas\\io\\parsers\\readers.py:1735\u001b[0m, in \u001b[0;36mTextFileReader._make_engine\u001b[1;34m(self, f, engine)\u001b[0m\n\u001b[0;32m   1733\u001b[0m     \u001b[38;5;28;01mif\u001b[39;00m \u001b[38;5;124m\"\u001b[39m\u001b[38;5;124mb\u001b[39m\u001b[38;5;124m\"\u001b[39m \u001b[38;5;129;01mnot\u001b[39;00m \u001b[38;5;129;01min\u001b[39;00m mode:\n\u001b[0;32m   1734\u001b[0m         mode \u001b[38;5;241m+\u001b[39m\u001b[38;5;241m=\u001b[39m \u001b[38;5;124m\"\u001b[39m\u001b[38;5;124mb\u001b[39m\u001b[38;5;124m\"\u001b[39m\n\u001b[1;32m-> 1735\u001b[0m \u001b[38;5;28mself\u001b[39m\u001b[38;5;241m.\u001b[39mhandles \u001b[38;5;241m=\u001b[39m \u001b[43mget_handle\u001b[49m\u001b[43m(\u001b[49m\n\u001b[0;32m   1736\u001b[0m \u001b[43m    \u001b[49m\u001b[43mf\u001b[49m\u001b[43m,\u001b[49m\n\u001b[0;32m   1737\u001b[0m \u001b[43m    \u001b[49m\u001b[43mmode\u001b[49m\u001b[43m,\u001b[49m\n\u001b[0;32m   1738\u001b[0m \u001b[43m    \u001b[49m\u001b[43mencoding\u001b[49m\u001b[38;5;241;43m=\u001b[39;49m\u001b[38;5;28;43mself\u001b[39;49m\u001b[38;5;241;43m.\u001b[39;49m\u001b[43moptions\u001b[49m\u001b[38;5;241;43m.\u001b[39;49m\u001b[43mget\u001b[49m\u001b[43m(\u001b[49m\u001b[38;5;124;43m\"\u001b[39;49m\u001b[38;5;124;43mencoding\u001b[39;49m\u001b[38;5;124;43m\"\u001b[39;49m\u001b[43m,\u001b[49m\u001b[43m \u001b[49m\u001b[38;5;28;43;01mNone\u001b[39;49;00m\u001b[43m)\u001b[49m\u001b[43m,\u001b[49m\n\u001b[0;32m   1739\u001b[0m \u001b[43m    \u001b[49m\u001b[43mcompression\u001b[49m\u001b[38;5;241;43m=\u001b[39;49m\u001b[38;5;28;43mself\u001b[39;49m\u001b[38;5;241;43m.\u001b[39;49m\u001b[43moptions\u001b[49m\u001b[38;5;241;43m.\u001b[39;49m\u001b[43mget\u001b[49m\u001b[43m(\u001b[49m\u001b[38;5;124;43m\"\u001b[39;49m\u001b[38;5;124;43mcompression\u001b[39;49m\u001b[38;5;124;43m\"\u001b[39;49m\u001b[43m,\u001b[49m\u001b[43m \u001b[49m\u001b[38;5;28;43;01mNone\u001b[39;49;00m\u001b[43m)\u001b[49m\u001b[43m,\u001b[49m\n\u001b[0;32m   1740\u001b[0m \u001b[43m    \u001b[49m\u001b[43mmemory_map\u001b[49m\u001b[38;5;241;43m=\u001b[39;49m\u001b[38;5;28;43mself\u001b[39;49m\u001b[38;5;241;43m.\u001b[39;49m\u001b[43moptions\u001b[49m\u001b[38;5;241;43m.\u001b[39;49m\u001b[43mget\u001b[49m\u001b[43m(\u001b[49m\u001b[38;5;124;43m\"\u001b[39;49m\u001b[38;5;124;43mmemory_map\u001b[39;49m\u001b[38;5;124;43m\"\u001b[39;49m\u001b[43m,\u001b[49m\u001b[43m \u001b[49m\u001b[38;5;28;43;01mFalse\u001b[39;49;00m\u001b[43m)\u001b[49m\u001b[43m,\u001b[49m\n\u001b[0;32m   1741\u001b[0m \u001b[43m    \u001b[49m\u001b[43mis_text\u001b[49m\u001b[38;5;241;43m=\u001b[39;49m\u001b[43mis_text\u001b[49m\u001b[43m,\u001b[49m\n\u001b[0;32m   1742\u001b[0m \u001b[43m    \u001b[49m\u001b[43merrors\u001b[49m\u001b[38;5;241;43m=\u001b[39;49m\u001b[38;5;28;43mself\u001b[39;49m\u001b[38;5;241;43m.\u001b[39;49m\u001b[43moptions\u001b[49m\u001b[38;5;241;43m.\u001b[39;49m\u001b[43mget\u001b[49m\u001b[43m(\u001b[49m\u001b[38;5;124;43m\"\u001b[39;49m\u001b[38;5;124;43mencoding_errors\u001b[39;49m\u001b[38;5;124;43m\"\u001b[39;49m\u001b[43m,\u001b[49m\u001b[43m \u001b[49m\u001b[38;5;124;43m\"\u001b[39;49m\u001b[38;5;124;43mstrict\u001b[39;49m\u001b[38;5;124;43m\"\u001b[39;49m\u001b[43m)\u001b[49m\u001b[43m,\u001b[49m\n\u001b[0;32m   1743\u001b[0m \u001b[43m    \u001b[49m\u001b[43mstorage_options\u001b[49m\u001b[38;5;241;43m=\u001b[39;49m\u001b[38;5;28;43mself\u001b[39;49m\u001b[38;5;241;43m.\u001b[39;49m\u001b[43moptions\u001b[49m\u001b[38;5;241;43m.\u001b[39;49m\u001b[43mget\u001b[49m\u001b[43m(\u001b[49m\u001b[38;5;124;43m\"\u001b[39;49m\u001b[38;5;124;43mstorage_options\u001b[39;49m\u001b[38;5;124;43m\"\u001b[39;49m\u001b[43m,\u001b[49m\u001b[43m \u001b[49m\u001b[38;5;28;43;01mNone\u001b[39;49;00m\u001b[43m)\u001b[49m\u001b[43m,\u001b[49m\n\u001b[0;32m   1744\u001b[0m \u001b[43m\u001b[49m\u001b[43m)\u001b[49m\n\u001b[0;32m   1745\u001b[0m \u001b[38;5;28;01massert\u001b[39;00m \u001b[38;5;28mself\u001b[39m\u001b[38;5;241m.\u001b[39mhandles \u001b[38;5;129;01mis\u001b[39;00m \u001b[38;5;129;01mnot\u001b[39;00m \u001b[38;5;28;01mNone\u001b[39;00m\n\u001b[0;32m   1746\u001b[0m f \u001b[38;5;241m=\u001b[39m \u001b[38;5;28mself\u001b[39m\u001b[38;5;241m.\u001b[39mhandles\u001b[38;5;241m.\u001b[39mhandle\n",
      "File \u001b[1;32m~\\AppData\\Roaming\\Python\\Python39\\site-packages\\pandas\\io\\common.py:856\u001b[0m, in \u001b[0;36mget_handle\u001b[1;34m(path_or_buf, mode, encoding, compression, memory_map, is_text, errors, storage_options)\u001b[0m\n\u001b[0;32m    851\u001b[0m \u001b[38;5;28;01melif\u001b[39;00m \u001b[38;5;28misinstance\u001b[39m(handle, \u001b[38;5;28mstr\u001b[39m):\n\u001b[0;32m    852\u001b[0m     \u001b[38;5;66;03m# Check whether the filename is to be opened in binary mode.\u001b[39;00m\n\u001b[0;32m    853\u001b[0m     \u001b[38;5;66;03m# Binary mode does not support 'encoding' and 'newline'.\u001b[39;00m\n\u001b[0;32m    854\u001b[0m     \u001b[38;5;28;01mif\u001b[39;00m ioargs\u001b[38;5;241m.\u001b[39mencoding \u001b[38;5;129;01mand\u001b[39;00m \u001b[38;5;124m\"\u001b[39m\u001b[38;5;124mb\u001b[39m\u001b[38;5;124m\"\u001b[39m \u001b[38;5;129;01mnot\u001b[39;00m \u001b[38;5;129;01min\u001b[39;00m ioargs\u001b[38;5;241m.\u001b[39mmode:\n\u001b[0;32m    855\u001b[0m         \u001b[38;5;66;03m# Encoding\u001b[39;00m\n\u001b[1;32m--> 856\u001b[0m         handle \u001b[38;5;241m=\u001b[39m \u001b[38;5;28;43mopen\u001b[39;49m\u001b[43m(\u001b[49m\n\u001b[0;32m    857\u001b[0m \u001b[43m            \u001b[49m\u001b[43mhandle\u001b[49m\u001b[43m,\u001b[49m\n\u001b[0;32m    858\u001b[0m \u001b[43m            \u001b[49m\u001b[43mioargs\u001b[49m\u001b[38;5;241;43m.\u001b[39;49m\u001b[43mmode\u001b[49m\u001b[43m,\u001b[49m\n\u001b[0;32m    859\u001b[0m \u001b[43m            \u001b[49m\u001b[43mencoding\u001b[49m\u001b[38;5;241;43m=\u001b[39;49m\u001b[43mioargs\u001b[49m\u001b[38;5;241;43m.\u001b[39;49m\u001b[43mencoding\u001b[49m\u001b[43m,\u001b[49m\n\u001b[0;32m    860\u001b[0m \u001b[43m            \u001b[49m\u001b[43merrors\u001b[49m\u001b[38;5;241;43m=\u001b[39;49m\u001b[43merrors\u001b[49m\u001b[43m,\u001b[49m\n\u001b[0;32m    861\u001b[0m \u001b[43m            \u001b[49m\u001b[43mnewline\u001b[49m\u001b[38;5;241;43m=\u001b[39;49m\u001b[38;5;124;43m\"\u001b[39;49m\u001b[38;5;124;43m\"\u001b[39;49m\u001b[43m,\u001b[49m\n\u001b[0;32m    862\u001b[0m \u001b[43m        \u001b[49m\u001b[43m)\u001b[49m\n\u001b[0;32m    863\u001b[0m     \u001b[38;5;28;01melse\u001b[39;00m:\n\u001b[0;32m    864\u001b[0m         \u001b[38;5;66;03m# Binary mode\u001b[39;00m\n\u001b[0;32m    865\u001b[0m         handle \u001b[38;5;241m=\u001b[39m \u001b[38;5;28mopen\u001b[39m(handle, ioargs\u001b[38;5;241m.\u001b[39mmode)\n",
      "\u001b[1;31mFileNotFoundError\u001b[0m: [Errno 2] No such file or directory: 'C:\\\\Users\\\\Vanessa\\\\Downloads\\\\Ironhack\\\\M02-L05-introduction_to_API\\\\dementia_19950101_19960101.csv'"
     ]
    }
   ],
   "source": [
    "#importing libraries and files\n",
    "import pandas as pd\n",
    "import numpy as np\n",
    "import re\n",
    "query = 'dementia'\n",
    "d1 = pd.read_csv(r'C:\\Users\\Vanessa\\Downloads\\Ironhack\\M02-L05-introduction_to_API\\dementia_19950101_19960101.csv')\n",
    "d2 = pd.read_csv(r'C:\\Users\\Vanessa\\Downloads\\Ironhack\\M02-L05-introduction_to_API\\dementia_19960101_19970101.csv')\n",
    "d3 = pd.read_csv(r'C:\\Users\\Vanessa\\Downloads\\Ironhack\\M02-L05-introduction_to_API\\dementia_19970101_19980101.csv')\n",
    "d4 = pd.read_csv(r'C:\\Users\\Vanessa\\Downloads\\Ironhack\\M02-L05-introduction_to_API\\dementia_19980101_19990101.csv')\n",
    "d5 = pd.read_csv(r'C:\\Users\\Vanessa\\Downloads\\Ironhack\\M02-L05-introduction_to_API\\dementia_19990101_20000101.csv')\n",
    "d6 = pd.read_csv(r'C:\\Users\\Vanessa\\Downloads\\Ironhack\\M02-L05-introduction_to_API\\dementia_20000101_20010101.csv')\n",
    "d7 = pd.read_csv(r'C:\\Users\\Vanessa\\Downloads\\Ironhack\\M02-L05-introduction_to_API\\dementia_20010101_20020101.csv')\n",
    "d8 = pd.read_csv(r'C:\\Users\\Vanessa\\Downloads\\Ironhack\\M02-L05-introduction_to_API\\dementia_20020101_20030101.csv')\n",
    "d9 = pd.read_csv(r'C:\\Users\\Vanessa\\Downloads\\Ironhack\\M02-L05-introduction_to_API\\dementia_20030101_20040101.csv')\n",
    "d10 = pd.read_csv(r'C:\\Users\\Vanessa\\Downloads\\Ironhack\\M02-L05-introduction_to_API\\dementia_20040101_20050101.csv')\n",
    "d11 = pd.read_csv(r'C:\\Users\\Vanessa\\Downloads\\Ironhack\\M02-L05-introduction_to_API\\dementia_20050101_20060101.csv')\n",
    "d12 = pd.read_csv(r'C:\\Users\\Vanessa\\Downloads\\Ironhack\\M02-L05-introduction_to_API\\dementia_20060101_20070101.csv')\n",
    "d13 = pd.read_csv(r'C:\\Users\\Vanessa\\Downloads\\Ironhack\\M02-L05-introduction_to_API\\dementia_20070101_20080101.csv')\n",
    "d14 = pd.read_csv(r'C:\\Users\\Vanessa\\Downloads\\Ironhack\\M02-L05-introduction_to_API\\dementia_20080101_20090101.csv')\n",
    "d15 = pd.read_csv(r'C:\\Users\\Vanessa\\Downloads\\Ironhack\\M02-L05-introduction_to_API\\dementia_20090101_20100101.csv')\n",
    "d16 = pd.read_csv(r'C:\\Users\\Vanessa\\Downloads\\Ironhack\\M02-L05-introduction_to_API\\dementia_20100101_20110101.csv')\n",
    "d17 = pd.read_csv(r'C:\\Users\\Vanessa\\Downloads\\Ironhack\\M02-L05-introduction_to_API\\dementia_20110101_20120101.csv')\n",
    "d18 = pd.read_csv(r'C:\\Users\\Vanessa\\Downloads\\Ironhack\\M02-L05-introduction_to_API\\dementia_20120101_20130101.csv')\n",
    "d19 = pd.read_csv(r'C:\\Users\\Vanessa\\Downloads\\Ironhack\\M02-L05-introduction_to_API\\dementia_20130101_20140101.csv')\n",
    "d20 = pd.read_csv(r'C:\\Users\\Vanessa\\Downloads\\Ironhack\\M02-L05-introduction_to_API\\dementia_20140101_20150101.csv')\n",
    "d21 = pd.read_csv(r'C:\\Users\\Vanessa\\Downloads\\Ironhack\\M02-L05-introduction_to_API\\dementia_20150101_20160101.csv')\n",
    "d22 = pd.read_csv(r'C:\\Users\\Vanessa\\Downloads\\Ironhack\\M02-L05-introduction_to_API\\dementia_20160101_20170101.csv')\n",
    "d23 = pd.read_csv(r'C:\\Users\\Vanessa\\Downloads\\Ironhack\\M02-L05-introduction_to_API\\dementia_20170101_20180101.csv')\n",
    "d24 = pd.read_csv(r'C:\\Users\\Vanessa\\Downloads\\Ironhack\\M02-L05-introduction_to_API\\dementia_20180101_20190101.csv')\n",
    "d25 = pd.read_csv(r'C:\\Users\\Vanessa\\Downloads\\Ironhack\\M02-L05-introduction_to_API\\dementia_20190101_20200101.csv')\n",
    "d26 = pd.read_csv(r'C:\\Users\\Vanessa\\Downloads\\Ironhack\\M02-L05-introduction_to_API\\dementia_20200101_20210101.csv')\n",
    "d27 = pd.read_csv(r'C:\\Users\\Vanessa\\Downloads\\Ironhack\\M02-L05-introduction_to_API\\dementia_20210101_20220101.csv')"
   ]
  },
  {
   "cell_type": "code",
   "execution_count": null,
   "id": "9659333c",
   "metadata": {
    "ExecuteTime": {
     "end_time": "2023-02-10T20:54:24.307860Z",
     "start_time": "2023-02-10T20:54:24.307860Z"
    }
   },
   "outputs": [],
   "source": [
    "#merging files in a single data frame\n",
    "df = pd.concat([d1, d2, d3, d4, d5, d6, d7, d8, d9, d10, d11, d12, d13, d14, d15, d16, d17, d18, d19, d20, d21, d22, d23, d24, d25, d26, d27])"
   ]
  },
  {
   "cell_type": "code",
   "execution_count": null,
   "id": "ec428a2a",
   "metadata": {
    "ExecuteTime": {
     "end_time": "2023-02-10T20:54:24.309862Z",
     "start_time": "2023-02-10T20:54:24.309862Z"
    }
   },
   "outputs": [],
   "source": [
    "#cleaning columns\n",
    "df.columns = df.columns.str.lower().str.strip()"
   ]
  },
  {
   "cell_type": "code",
   "execution_count": null,
   "id": "9bf1f739",
   "metadata": {
    "ExecuteTime": {
     "end_time": "2023-02-10T20:54:24.311861Z",
     "start_time": "2023-02-10T20:54:24.311861Z"
    }
   },
   "outputs": [],
   "source": [
    "#selecting desired columns from the original dataframe\n",
    "partial_df = df[['query_consulta','pub_date','source', 'headline.main','headline.print_headline','snippet','lead_paragraph','keywords']]\n",
    "partial_df.columns = ['query', 'pub_date', 'source', 'headline1', 'headline2','snippet','lead_paragraph', 'keywords']\n",
    "partial_df"
   ]
  },
  {
   "cell_type": "code",
   "execution_count": null,
   "id": "1608f72e",
   "metadata": {
    "ExecuteTime": {
     "end_time": "2023-02-10T20:54:24.312860Z",
     "start_time": "2023-02-10T20:54:24.312860Z"
    }
   },
   "outputs": [],
   "source": [
    "#cleaning 'pub_date' column\n",
    "partial_df['pub_date'] = partial_df['pub_date'].apply(lambda x: re.findall('\\d{4}', x))\n",
    "partial_df['pub_date'] = [i[0] for i in partial_df['pub_date']]"
   ]
  },
  {
   "cell_type": "code",
   "execution_count": null,
   "id": "1f1ed5ed",
   "metadata": {
    "ExecuteTime": {
     "end_time": "2023-02-10T20:54:24.313860Z",
     "start_time": "2023-02-10T20:54:24.313860Z"
    }
   },
   "outputs": [],
   "source": [
    "# keeping only lines with query in 'headline1/2' or 'snippet' or 'keywords'\n",
    "partial_df.fillna = np.nan\n",
    "mask = (partial_df['headline1'].str.contains(f'{query}', flags = re.I) | partial_df['headline2'].str.contains(f'{query}', flags = re.I)| partial_df['snippet'].str.contains(f'{query}', flags = re.I) |partial_df['lead_paragraph'].str.contains(f'{query}', flags = re.I) | partial_df['keywords'].astype(str).str.contains(f'{query}', flags = re.I))\n",
    "final_df = partial_df[mask]"
   ]
  },
  {
   "cell_type": "code",
   "execution_count": null,
   "id": "f0c9720f",
   "metadata": {
    "ExecuteTime": {
     "end_time": "2023-02-10T20:54:24.314860Z",
     "start_time": "2023-02-10T20:54:24.314860Z"
    }
   },
   "outputs": [],
   "source": [
    "final_df"
   ]
  },
  {
   "cell_type": "code",
   "execution_count": null,
   "id": "1f1b6db2",
   "metadata": {
    "ExecuteTime": {
     "end_time": "2023-02-10T20:54:24.315911Z",
     "start_time": "2023-02-10T20:54:24.315911Z"
    }
   },
   "outputs": [],
   "source": [
    "#checking for other dementia-related termns in the final dataframe\n",
    "\n",
    "# ‘pre-dementia’\n",
    "# ‘mild cognitive impairment’\n",
    "# ‘alzheimer’\n",
    "# ‘vascular dementia’\n",
    "# ‘frontotemporal dementia’\n",
    "# ‘parkinson’\n",
    "# ‘lewy bodies / Lewy body\n",
    "# ‘primary progressive aphasia’\n",
    "\n",
    "\n",
    "term = 'lewy body'\n",
    "mask2 = (final_df['headline1'].str.contains(f'{term}', flags = re.I) | final_df['headline2'].str.contains(f'{term}', flags = re.I)| final_df['snippet'].str.contains(f'{term}', flags = re.I) |final_df['lead_paragraph'].str.contains(f'{term}', flags = re.I) | final_df['keywords'].astype(str).str.contains(f'{term}', flags = re.I))\n",
    "term_df = final_df[mask2]\n",
    "term_df"
   ]
  }
 ],
 "metadata": {
  "kernelspec": {
   "display_name": "Python 3 (ipykernel)",
   "language": "python",
   "name": "python3"
  },
  "language_info": {
   "codemirror_mode": {
    "name": "ipython",
    "version": 3
   },
   "file_extension": ".py",
   "mimetype": "text/x-python",
   "name": "python",
   "nbconvert_exporter": "python",
   "pygments_lexer": "ipython3",
   "version": "3.9.12"
  },
  "toc": {
   "base_numbering": 1,
   "nav_menu": {},
   "number_sections": true,
   "sideBar": true,
   "skip_h1_title": false,
   "title_cell": "Table of Contents",
   "title_sidebar": "Contents",
   "toc_cell": false,
   "toc_position": {},
   "toc_section_display": true,
   "toc_window_display": false
  },
  "varInspector": {
   "cols": {
    "lenName": 16,
    "lenType": 16,
    "lenVar": 40
   },
   "kernels_config": {
    "python": {
     "delete_cmd_postfix": "",
     "delete_cmd_prefix": "del ",
     "library": "var_list.py",
     "varRefreshCmd": "print(var_dic_list())"
    },
    "r": {
     "delete_cmd_postfix": ") ",
     "delete_cmd_prefix": "rm(",
     "library": "var_list.r",
     "varRefreshCmd": "cat(var_dic_list()) "
    }
   },
   "types_to_exclude": [
    "module",
    "function",
    "builtin_function_or_method",
    "instance",
    "_Feature"
   ],
   "window_display": false
  }
 },
 "nbformat": 4,
 "nbformat_minor": 5
}

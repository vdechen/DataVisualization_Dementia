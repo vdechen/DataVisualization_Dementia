{
 "cells": [
  {
   "cell_type": "code",
   "execution_count": 1,
   "id": "46808c2f",
   "metadata": {
    "ExecuteTime": {
     "end_time": "2023-02-06T18:03:16.743108Z",
     "start_time": "2023-02-06T18:03:16.218283Z"
    }
   },
   "outputs": [],
   "source": [
    "import requests\n",
    "import pandas as pd\n",
    "from tqdm.auto import tqdm\n",
    "import time"
   ]
  },
  {
   "cell_type": "code",
   "execution_count": 6,
   "id": "558d2f07",
   "metadata": {
    "ExecuteTime": {
     "end_time": "2023-02-06T20:53:23.907766Z",
     "start_time": "2023-02-06T20:53:23.889467Z"
    }
   },
   "outputs": [],
   "source": [
    "def query_nyt(query, your_key):\n",
    "    \n",
    "    for date_begin,date_end in list(zip(range(19950101,20220101,10000),range(19960101,20230101,10000))):\n",
    "        filt = f'begin_date={date_begin}&end_date={date_end}'\n",
    "        query_url_articles = f'https://api.nytimes.com/svc/search/v2/articlesearch.json?q={query}&{filt}&api-key={your_key}'\n",
    "        articles_request = requests.get(query_url_articles)\n",
    "        results = articles_request.json()\n",
    "        if results.get('fault') is None:\n",
    "            n_results = results['response']['meta']['hits']\n",
    "            articles_list_df = []\n",
    "            for i in tqdm(range(0,int(n_results/10))):\n",
    "                query_url_articles_page = f'https://api.nytimes.com/svc/search/v2/articlesearch.json?q={query}&{filt}&page={i}&api-key={your_key}'\n",
    "                articles_request = requests.get(query_url_articles_page)\n",
    "                results = articles_request.json()\n",
    "                if results.get('fault') is None:\n",
    "                    df = pd.json_normalize(results['response']['docs'])\n",
    "                    df['query_consulta']=query\n",
    "                    articles_list_df.append(df)\n",
    "                    time.sleep(6)\n",
    "                else:\n",
    "                    pd.concat(articles_list_df).to_csv(f'{query}_{date_begin}_{date_end}.csv',index=False)\n",
    "                    return date_begin,i\n",
    "            pd.concat(articles_list_df).to_csv(f'{query}_{date_begin}_{date_end}.csv',index=False)\n",
    "    return date_begin,i"
   ]
  },
  {
   "cell_type": "code",
   "execution_count": null,
   "id": "ed69eeae",
   "metadata": {},
   "outputs": [],
   "source": []
  }
 ],
 "metadata": {
  "kernelspec": {
   "display_name": "Python 3 (ipykernel)",
   "language": "python",
   "name": "python3"
  },
  "language_info": {
   "codemirror_mode": {
    "name": "ipython",
    "version": 3
   },
   "file_extension": ".py",
   "mimetype": "text/x-python",
   "name": "python",
   "nbconvert_exporter": "python",
   "pygments_lexer": "ipython3",
   "version": "3.9.12"
  },
  "toc": {
   "base_numbering": 1,
   "nav_menu": {},
   "number_sections": true,
   "sideBar": true,
   "skip_h1_title": false,
   "title_cell": "Table of Contents",
   "title_sidebar": "Contents",
   "toc_cell": false,
   "toc_position": {},
   "toc_section_display": true,
   "toc_window_display": false
  },
  "varInspector": {
   "cols": {
    "lenName": 16,
    "lenType": 16,
    "lenVar": 40
   },
   "kernels_config": {
    "python": {
     "delete_cmd_postfix": "",
     "delete_cmd_prefix": "del ",
     "library": "var_list.py",
     "varRefreshCmd": "print(var_dic_list())"
    },
    "r": {
     "delete_cmd_postfix": ") ",
     "delete_cmd_prefix": "rm(",
     "library": "var_list.r",
     "varRefreshCmd": "cat(var_dic_list()) "
    }
   },
   "types_to_exclude": [
    "module",
    "function",
    "builtin_function_or_method",
    "instance",
    "_Feature"
   ],
   "window_display": false
  }
 },
 "nbformat": 4,
 "nbformat_minor": 5
}

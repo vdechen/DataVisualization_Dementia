{
 "cells": [
  {
   "cell_type": "code",
   "execution_count": 1,
   "id": "d5819417",
   "metadata": {
    "ExecuteTime": {
     "end_time": "2023-02-12T04:04:30.941112Z",
     "start_time": "2023-02-12T04:04:27.410326Z"
    }
   },
   "outputs": [],
   "source": [
    "import pandas as pd\n",
    "import re\n",
    "from wordcloud import WordCloud, STOPWORDS\n",
    "import matplotlib.pyplot as plt"
   ]
  },
  {
   "cell_type": "code",
   "execution_count": 2,
   "id": "b20f634c",
   "metadata": {
    "ExecuteTime": {
     "end_time": "2023-02-12T04:04:38.252434Z",
     "start_time": "2023-02-12T04:04:38.029225Z"
    }
   },
   "outputs": [
    {
     "data": {
      "text/html": [
       "<div>\n",
       "<style scoped>\n",
       "    .dataframe tbody tr th:only-of-type {\n",
       "        vertical-align: middle;\n",
       "    }\n",
       "\n",
       "    .dataframe tbody tr th {\n",
       "        vertical-align: top;\n",
       "    }\n",
       "\n",
       "    .dataframe thead th {\n",
       "        text-align: right;\n",
       "    }\n",
       "</style>\n",
       "<table border=\"1\" class=\"dataframe\">\n",
       "  <thead>\n",
       "    <tr style=\"text-align: right;\">\n",
       "      <th></th>\n",
       "      <th>Unnamed: 0</th>\n",
       "      <th>query</th>\n",
       "      <th>pub_date</th>\n",
       "      <th>source</th>\n",
       "      <th>headline1</th>\n",
       "      <th>headline2</th>\n",
       "      <th>snippet</th>\n",
       "      <th>lead_paragraph</th>\n",
       "      <th>keywords</th>\n",
       "    </tr>\n",
       "  </thead>\n",
       "  <tbody>\n",
       "    <tr>\n",
       "      <th>0</th>\n",
       "      <td>0</td>\n",
       "      <td>dementia</td>\n",
       "      <td>1995</td>\n",
       "      <td>International Herald Tribune</td>\n",
       "      <td>1920:Religious Dementia : IN OUR PAGES:100, 75...</td>\n",
       "      <td>1920:Religious Dementia : IN OUR PAGES:100, 75...</td>\n",
       "      <td>HALLE, Saxony - It is learned that the little ...</td>\n",
       "      <td>HALLE, Saxony - It is learned that the little ...</td>\n",
       "      <td>[]</td>\n",
       "    </tr>\n",
       "    <tr>\n",
       "      <th>1</th>\n",
       "      <td>5</td>\n",
       "      <td>dementia</td>\n",
       "      <td>1995</td>\n",
       "      <td>The New York Times</td>\n",
       "      <td>Friends, Romans, Police Greet Seles for Return</td>\n",
       "      <td>TENNIS; Friends, Romans, Police Greet Seles fo...</td>\n",
       "      <td>NaN</td>\n",
       "      <td>Finally, on the eve of Seles versus Navratilov...</td>\n",
       "      <td>[{'name': 'persons', 'value': 'Seles, Monica',...</td>\n",
       "    </tr>\n",
       "    <tr>\n",
       "      <th>2</th>\n",
       "      <td>17</td>\n",
       "      <td>dementia</td>\n",
       "      <td>1995</td>\n",
       "      <td>The New York Times</td>\n",
       "      <td>ENDPAPER;PJ Day</td>\n",
       "      <td>ENDPAPER;PJ Day</td>\n",
       "      <td>NaN</td>\n",
       "      <td>It started with Vincent (the Chin). For about ...</td>\n",
       "      <td>[{'name': 'glocations', 'value': 'New York Cit...</td>\n",
       "    </tr>\n",
       "    <tr>\n",
       "      <th>3</th>\n",
       "      <td>41</td>\n",
       "      <td>dementia</td>\n",
       "      <td>1995</td>\n",
       "      <td>The New York Times</td>\n",
       "      <td>ON THE TOWNS</td>\n",
       "      <td>ON THE TOWNS</td>\n",
       "      <td>NaN</td>\n",
       "      <td>An opinionated guide to cultural and recreatio...</td>\n",
       "      <td>[{'name': 'glocations', 'value': 'New Jersey',...</td>\n",
       "    </tr>\n",
       "    <tr>\n",
       "      <th>4</th>\n",
       "      <td>0</td>\n",
       "      <td>dementia</td>\n",
       "      <td>1996</td>\n",
       "      <td>The New York Times</td>\n",
       "      <td>THEATER REVIEW;A Monarch's Slide Into Dementia</td>\n",
       "      <td>THEATER REVIEW;A Monarch's Slide Into Dementia</td>\n",
       "      <td>NaN</td>\n",
       "      <td>It is kindest, perhaps, to think of it as mere...</td>\n",
       "      <td>[{'name': 'organizations', 'value': 'PAPP, JOS...</td>\n",
       "    </tr>\n",
       "    <tr>\n",
       "      <th>...</th>\n",
       "      <td>...</td>\n",
       "      <td>...</td>\n",
       "      <td>...</td>\n",
       "      <td>...</td>\n",
       "      <td>...</td>\n",
       "      <td>...</td>\n",
       "      <td>...</td>\n",
       "      <td>...</td>\n",
       "      <td>...</td>\n",
       "    </tr>\n",
       "    <tr>\n",
       "      <th>3222</th>\n",
       "      <td>104</td>\n",
       "      <td>Alzheimer</td>\n",
       "      <td>2021</td>\n",
       "      <td>The New York Times</td>\n",
       "      <td>$1 Million in Toxic Bleach Sold as ‘Miracle’ C...</td>\n",
       "      <td>NaN</td>\n",
       "      <td>A Florida grand jury indicted a man and his th...</td>\n",
       "      <td>MIAMI — Leaders of a business masquerading as ...</td>\n",
       "      <td>[{'name': 'subject', 'value': 'Rumors and Misi...</td>\n",
       "    </tr>\n",
       "    <tr>\n",
       "      <th>3223</th>\n",
       "      <td>117</td>\n",
       "      <td>Alzheimer</td>\n",
       "      <td>2021</td>\n",
       "      <td>The New York Times</td>\n",
       "      <td>Star Polymers, Space Origami and Singing Finch...</td>\n",
       "      <td>NaN</td>\n",
       "      <td>From snake venom and egg shells to Alzheimer’s...</td>\n",
       "      <td>Where do scientists — and science writers — ge...</td>\n",
       "      <td>[]</td>\n",
       "    </tr>\n",
       "    <tr>\n",
       "      <th>3224</th>\n",
       "      <td>137</td>\n",
       "      <td>Alzheimer</td>\n",
       "      <td>2021</td>\n",
       "      <td>The New York Times</td>\n",
       "      <td>Does Coconut Oil Deserve Its Health Halo?</td>\n",
       "      <td>Coconut Oil’s Undeserved Health Halo</td>\n",
       "      <td>“It’s been known for a long time that coconut ...</td>\n",
       "      <td>Coconut oil continues to be widely touted as a...</td>\n",
       "      <td>[{'name': 'subject', 'value': 'Cholesterol', '...</td>\n",
       "    </tr>\n",
       "    <tr>\n",
       "      <th>3225</th>\n",
       "      <td>161</td>\n",
       "      <td>Alzheimer</td>\n",
       "      <td>2021</td>\n",
       "      <td>The New York Times</td>\n",
       "      <td>A Better Way to Zap Our Brains</td>\n",
       "      <td>NaN</td>\n",
       "      <td>New research suggests that stimulating neurons...</td>\n",
       "      <td>The brain is an electrical organ. Everything t...</td>\n",
       "      <td>[{'name': 'subject', 'value': 'Brain', 'rank':...</td>\n",
       "    </tr>\n",
       "    <tr>\n",
       "      <th>3226</th>\n",
       "      <td>162</td>\n",
       "      <td>Alzheimer</td>\n",
       "      <td>2021</td>\n",
       "      <td>The New York Times</td>\n",
       "      <td>I’m Not Ready for Christmas. I Need to Take a ...</td>\n",
       "      <td>NaN</td>\n",
       "      <td>Advent is an ideal time to grieve, reflect and...</td>\n",
       "      <td>The past two years blur in my mind into a reel...</td>\n",
       "      <td>[{'name': 'subject', 'value': 'internal-sub-on...</td>\n",
       "    </tr>\n",
       "  </tbody>\n",
       "</table>\n",
       "<p>3227 rows × 9 columns</p>\n",
       "</div>"
      ],
      "text/plain": [
       "      Unnamed: 0      query  pub_date                        source  \\\n",
       "0              0   dementia      1995  International Herald Tribune   \n",
       "1              5   dementia      1995            The New York Times   \n",
       "2             17   dementia      1995            The New York Times   \n",
       "3             41   dementia      1995            The New York Times   \n",
       "4              0   dementia      1996            The New York Times   \n",
       "...          ...        ...       ...                           ...   \n",
       "3222         104  Alzheimer      2021            The New York Times   \n",
       "3223         117  Alzheimer      2021            The New York Times   \n",
       "3224         137  Alzheimer      2021            The New York Times   \n",
       "3225         161  Alzheimer      2021            The New York Times   \n",
       "3226         162  Alzheimer      2021            The New York Times   \n",
       "\n",
       "                                              headline1  \\\n",
       "0     1920:Religious Dementia : IN OUR PAGES:100, 75...   \n",
       "1        Friends, Romans, Police Greet Seles for Return   \n",
       "2                                       ENDPAPER;PJ Day   \n",
       "3                                          ON THE TOWNS   \n",
       "4        THEATER REVIEW;A Monarch's Slide Into Dementia   \n",
       "...                                                 ...   \n",
       "3222  $1 Million in Toxic Bleach Sold as ‘Miracle’ C...   \n",
       "3223  Star Polymers, Space Origami and Singing Finch...   \n",
       "3224          Does Coconut Oil Deserve Its Health Halo?   \n",
       "3225                     A Better Way to Zap Our Brains   \n",
       "3226  I’m Not Ready for Christmas. I Need to Take a ...   \n",
       "\n",
       "                                              headline2  \\\n",
       "0     1920:Religious Dementia : IN OUR PAGES:100, 75...   \n",
       "1     TENNIS; Friends, Romans, Police Greet Seles fo...   \n",
       "2                                       ENDPAPER;PJ Day   \n",
       "3                                          ON THE TOWNS   \n",
       "4        THEATER REVIEW;A Monarch's Slide Into Dementia   \n",
       "...                                                 ...   \n",
       "3222                                                NaN   \n",
       "3223                                                NaN   \n",
       "3224               Coconut Oil’s Undeserved Health Halo   \n",
       "3225                                                NaN   \n",
       "3226                                                NaN   \n",
       "\n",
       "                                                snippet  \\\n",
       "0     HALLE, Saxony - It is learned that the little ...   \n",
       "1                                                   NaN   \n",
       "2                                                   NaN   \n",
       "3                                                   NaN   \n",
       "4                                                   NaN   \n",
       "...                                                 ...   \n",
       "3222  A Florida grand jury indicted a man and his th...   \n",
       "3223  From snake venom and egg shells to Alzheimer’s...   \n",
       "3224  “It’s been known for a long time that coconut ...   \n",
       "3225  New research suggests that stimulating neurons...   \n",
       "3226  Advent is an ideal time to grieve, reflect and...   \n",
       "\n",
       "                                         lead_paragraph  \\\n",
       "0     HALLE, Saxony - It is learned that the little ...   \n",
       "1     Finally, on the eve of Seles versus Navratilov...   \n",
       "2     It started with Vincent (the Chin). For about ...   \n",
       "3     An opinionated guide to cultural and recreatio...   \n",
       "4     It is kindest, perhaps, to think of it as mere...   \n",
       "...                                                 ...   \n",
       "3222  MIAMI — Leaders of a business masquerading as ...   \n",
       "3223  Where do scientists — and science writers — ge...   \n",
       "3224  Coconut oil continues to be widely touted as a...   \n",
       "3225  The brain is an electrical organ. Everything t...   \n",
       "3226  The past two years blur in my mind into a reel...   \n",
       "\n",
       "                                               keywords  \n",
       "0                                                    []  \n",
       "1     [{'name': 'persons', 'value': 'Seles, Monica',...  \n",
       "2     [{'name': 'glocations', 'value': 'New York Cit...  \n",
       "3     [{'name': 'glocations', 'value': 'New Jersey',...  \n",
       "4     [{'name': 'organizations', 'value': 'PAPP, JOS...  \n",
       "...                                                 ...  \n",
       "3222  [{'name': 'subject', 'value': 'Rumors and Misi...  \n",
       "3223                                                 []  \n",
       "3224  [{'name': 'subject', 'value': 'Cholesterol', '...  \n",
       "3225  [{'name': 'subject', 'value': 'Brain', 'rank':...  \n",
       "3226  [{'name': 'subject', 'value': 'internal-sub-on...  \n",
       "\n",
       "[3227 rows x 9 columns]"
      ]
     },
     "execution_count": 2,
     "metadata": {},
     "output_type": "execute_result"
    }
   ],
   "source": [
    "df = pd.read_csv(r\"C:\\Users\\Vanessa\\Downloads\\Dados\\Programas\\Repositório Git\\DataVisualization_Dementia\\DataVisualization_Dementia\\DATASETS\\NY times (dementia_alzheimer)\\dementia_alzheimer.csv\")\n",
    "df"
   ]
  },
  {
   "cell_type": "code",
   "execution_count": 3,
   "id": "b74c92b6",
   "metadata": {
    "ExecuteTime": {
     "end_time": "2023-02-12T04:04:56.454981Z",
     "start_time": "2023-02-12T04:04:48.597264Z"
    }
   },
   "outputs": [
    {
     "data": {
      "text/plain": [
       "<wordcloud.wordcloud.WordCloud at 0x21a6b894ee0>"
      ]
     },
     "execution_count": 3,
     "metadata": {},
     "output_type": "execute_result"
    }
   ],
   "source": [
    "# wordcloud for alzheimer_dementia\n",
    "\n",
    "text = df['lead_paragraph'].str.lower().str.cat()\n",
    "stopwords = set(STOPWORDS)\n",
    "stopwords.update(['new', 'york', 'alzheimer', 'will', 'made', 'dementia', 's', 'ny', 'p', 'm', 'one', 'two', 'last', 'first', 'year', 'week'])\n",
    "wordcloud = WordCloud(stopwords = stopwords, width=1000, height=500, background_color = None, mode='RGBA').generate(text)\n",
    "wordcloud.to_file(\"alz_dem.png\")\n",
    "    \n",
    "#plt.imshow(wordcloud)"
   ]
  },
  {
   "cell_type": "code",
   "execution_count": 4,
   "id": "9c8d300e",
   "metadata": {
    "ExecuteTime": {
     "end_time": "2023-02-12T04:06:50.030142Z",
     "start_time": "2023-02-12T04:04:58.272197Z"
    }
   },
   "outputs": [],
   "source": [
    "# wordclouds by year in alzheimer_dementia\n",
    "\n",
    "for year in range(1995, 2022):\n",
    "    df_year = df['pub_date'] == year\n",
    "    df[df_year]['lead_paragraph']\n",
    "    text = df[df_year]['lead_paragraph'].str.lower().str.cat()\n",
    "    stopwords = set(STOPWORDS)\n",
    "    stopwords.update(['new', 'york', 'alzheimer', 'will', 'made', 'dementia', 's', 'ny', 'p', 'm','one', 'two', 'last', 'first', 'year', 'week'])\n",
    "    wordcloud = WordCloud(stopwords = stopwords,width=1000, height=500, background_color = None, mode='RGBA').generate(text)\n",
    "    wordcloud.to_file(f\"{year}.png\")\n",
    "    "
   ]
  },
  {
   "cell_type": "code",
   "execution_count": 5,
   "id": "6db9195a",
   "metadata": {
    "ExecuteTime": {
     "end_time": "2023-02-12T04:07:12.364799Z",
     "start_time": "2023-02-12T04:07:06.416772Z"
    }
   },
   "outputs": [
    {
     "data": {
      "text/plain": [
       "<wordcloud.wordcloud.WordCloud at 0x21a6dd42a00>"
      ]
     },
     "execution_count": 5,
     "metadata": {},
     "output_type": "execute_result"
    }
   ],
   "source": [
    "# 'mild cognitive impairment' in alzheimer_dementia\n",
    "\n",
    "query = 'mild cognitive impairment'\n",
    "mask = (df['headline1'].str.contains(f'{query}', flags = re.I) | df['headline2'].str.contains(f'{query}', flags = re.I)| df['snippet'].str.contains(f'{query}', flags = re.I) | df['lead_paragraph'].str.contains(f'{query}', flags = re.I) |  df['keywords'].astype(str).str.contains(f'{query}', flags = re.I))\n",
    "dem_type = df[mask]\n",
    "text = dem_type['lead_paragraph'].str.lower().str.cat()\n",
    "stopwords = set(STOPWORDS)\n",
    "stopwords.update(['new', 'york', 'alzheimer', 'will', 'made', 'dementia', 's', 'ny', 'p', 'm', 'one', 'mild', 'cognitive', 'impairment','one', 'two', 'last', 'first', 'year', 'week'])\n",
    "wordcloud = WordCloud(stopwords = stopwords,width=1000, height=500, background_color = None, mode='RGBA').generate(text)\n",
    "wordcloud.to_file(f\"{query}.png\")"
   ]
  },
  {
   "cell_type": "code",
   "execution_count": null,
   "id": "88ff8922",
   "metadata": {
    "ExecuteTime": {
     "end_time": "2023-02-10T14:25:27.630002Z",
     "start_time": "2023-02-10T14:25:27.623540Z"
    }
   },
   "outputs": [],
   "source": []
  },
  {
   "cell_type": "code",
   "execution_count": null,
   "id": "dfbd5914",
   "metadata": {
    "ExecuteTime": {
     "end_time": "2023-02-10T14:25:30.776932Z",
     "start_time": "2023-02-10T14:25:29.547752Z"
    }
   },
   "outputs": [],
   "source": []
  }
 ],
 "metadata": {
  "kernelspec": {
   "display_name": "Python 3 (ipykernel)",
   "language": "python",
   "name": "python3"
  },
  "language_info": {
   "codemirror_mode": {
    "name": "ipython",
    "version": 3
   },
   "file_extension": ".py",
   "mimetype": "text/x-python",
   "name": "python",
   "nbconvert_exporter": "python",
   "pygments_lexer": "ipython3",
   "version": "3.9.12"
  },
  "toc": {
   "base_numbering": 1,
   "nav_menu": {},
   "number_sections": true,
   "sideBar": true,
   "skip_h1_title": false,
   "title_cell": "Table of Contents",
   "title_sidebar": "Contents",
   "toc_cell": false,
   "toc_position": {},
   "toc_section_display": true,
   "toc_window_display": false
  },
  "varInspector": {
   "cols": {
    "lenName": 16,
    "lenType": 16,
    "lenVar": 40
   },
   "kernels_config": {
    "python": {
     "delete_cmd_postfix": "",
     "delete_cmd_prefix": "del ",
     "library": "var_list.py",
     "varRefreshCmd": "print(var_dic_list())"
    },
    "r": {
     "delete_cmd_postfix": ") ",
     "delete_cmd_prefix": "rm(",
     "library": "var_list.r",
     "varRefreshCmd": "cat(var_dic_list()) "
    }
   },
   "types_to_exclude": [
    "module",
    "function",
    "builtin_function_or_method",
    "instance",
    "_Feature"
   ],
   "window_display": false
  }
 },
 "nbformat": 4,
 "nbformat_minor": 5
}

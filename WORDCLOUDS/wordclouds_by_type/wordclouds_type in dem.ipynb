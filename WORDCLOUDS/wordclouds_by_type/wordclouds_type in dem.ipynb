{
 "cells": [
  {
   "cell_type": "code",
   "execution_count": 8,
   "id": "d5819417",
   "metadata": {
    "ExecuteTime": {
     "end_time": "2023-02-10T15:18:33.145949Z",
     "start_time": "2023-02-10T15:18:33.132839Z"
    }
   },
   "outputs": [],
   "source": [
    "import pandas as pd\n",
    "import re\n",
    "from wordcloud import WordCloud, STOPWORDS\n",
    "import matplotlib.pyplot as plt"
   ]
  },
  {
   "cell_type": "code",
   "execution_count": 3,
   "id": "b20f634c",
   "metadata": {
    "ExecuteTime": {
     "end_time": "2023-02-10T15:04:42.807113Z",
     "start_time": "2023-02-10T15:04:42.769017Z"
    }
   },
   "outputs": [
    {
     "data": {
      "text/html": [
       "<div>\n",
       "<style scoped>\n",
       "    .dataframe tbody tr th:only-of-type {\n",
       "        vertical-align: middle;\n",
       "    }\n",
       "\n",
       "    .dataframe tbody tr th {\n",
       "        vertical-align: top;\n",
       "    }\n",
       "\n",
       "    .dataframe thead th {\n",
       "        text-align: right;\n",
       "    }\n",
       "</style>\n",
       "<table border=\"1\" class=\"dataframe\">\n",
       "  <thead>\n",
       "    <tr style=\"text-align: right;\">\n",
       "      <th></th>\n",
       "      <th>Unnamed: 0</th>\n",
       "      <th>query</th>\n",
       "      <th>pub_date</th>\n",
       "      <th>source</th>\n",
       "      <th>headline1</th>\n",
       "      <th>headline2</th>\n",
       "      <th>snippet</th>\n",
       "      <th>lead_paragraph</th>\n",
       "      <th>keywords</th>\n",
       "    </tr>\n",
       "  </thead>\n",
       "  <tbody>\n",
       "    <tr>\n",
       "      <th>0</th>\n",
       "      <td>0</td>\n",
       "      <td>dementia</td>\n",
       "      <td>1995</td>\n",
       "      <td>International Herald Tribune</td>\n",
       "      <td>1920:Religious Dementia : IN OUR PAGES:100, 75...</td>\n",
       "      <td>1920:Religious Dementia : IN OUR PAGES:100, 75...</td>\n",
       "      <td>HALLE, Saxony - It is learned that the little ...</td>\n",
       "      <td>HALLE, Saxony - It is learned that the little ...</td>\n",
       "      <td>[]</td>\n",
       "    </tr>\n",
       "    <tr>\n",
       "      <th>1</th>\n",
       "      <td>5</td>\n",
       "      <td>dementia</td>\n",
       "      <td>1995</td>\n",
       "      <td>The New York Times</td>\n",
       "      <td>Friends, Romans, Police Greet Seles for Return</td>\n",
       "      <td>TENNIS; Friends, Romans, Police Greet Seles fo...</td>\n",
       "      <td>NaN</td>\n",
       "      <td>Finally, on the eve of Seles versus Navratilov...</td>\n",
       "      <td>[{'name': 'persons', 'value': 'Seles, Monica',...</td>\n",
       "    </tr>\n",
       "    <tr>\n",
       "      <th>2</th>\n",
       "      <td>17</td>\n",
       "      <td>dementia</td>\n",
       "      <td>1995</td>\n",
       "      <td>The New York Times</td>\n",
       "      <td>ENDPAPER;PJ Day</td>\n",
       "      <td>ENDPAPER;PJ Day</td>\n",
       "      <td>NaN</td>\n",
       "      <td>It started with Vincent (the Chin). For about ...</td>\n",
       "      <td>[{'name': 'glocations', 'value': 'New York Cit...</td>\n",
       "    </tr>\n",
       "    <tr>\n",
       "      <th>3</th>\n",
       "      <td>41</td>\n",
       "      <td>dementia</td>\n",
       "      <td>1995</td>\n",
       "      <td>The New York Times</td>\n",
       "      <td>ON THE TOWNS</td>\n",
       "      <td>ON THE TOWNS</td>\n",
       "      <td>NaN</td>\n",
       "      <td>An opinionated guide to cultural and recreatio...</td>\n",
       "      <td>[{'name': 'glocations', 'value': 'New Jersey',...</td>\n",
       "    </tr>\n",
       "    <tr>\n",
       "      <th>4</th>\n",
       "      <td>0</td>\n",
       "      <td>dementia</td>\n",
       "      <td>1996</td>\n",
       "      <td>The New York Times</td>\n",
       "      <td>THEATER REVIEW;A Monarch's Slide Into Dementia</td>\n",
       "      <td>THEATER REVIEW;A Monarch's Slide Into Dementia</td>\n",
       "      <td>NaN</td>\n",
       "      <td>It is kindest, perhaps, to think of it as mere...</td>\n",
       "      <td>[{'name': 'organizations', 'value': 'PAPP, JOS...</td>\n",
       "    </tr>\n",
       "    <tr>\n",
       "      <th>...</th>\n",
       "      <td>...</td>\n",
       "      <td>...</td>\n",
       "      <td>...</td>\n",
       "      <td>...</td>\n",
       "      <td>...</td>\n",
       "      <td>...</td>\n",
       "      <td>...</td>\n",
       "      <td>...</td>\n",
       "      <td>...</td>\n",
       "    </tr>\n",
       "    <tr>\n",
       "      <th>1061</th>\n",
       "      <td>85</td>\n",
       "      <td>dementia</td>\n",
       "      <td>2021</td>\n",
       "      <td>The New York Times</td>\n",
       "      <td>Tiny Love Stories: ‘My Body Told a Different S...</td>\n",
       "      <td>NaN</td>\n",
       "      <td>Modern Love in miniature, featuring reader-sub...</td>\n",
       "      <td>The day my 80-year-old mother announced she wa...</td>\n",
       "      <td>[{'name': 'subject', 'value': 'Love (Emotion)'...</td>\n",
       "    </tr>\n",
       "    <tr>\n",
       "      <th>1062</th>\n",
       "      <td>136</td>\n",
       "      <td>dementia</td>\n",
       "      <td>2021</td>\n",
       "      <td>The New York Times</td>\n",
       "      <td>‘How Can You Hate Me When You Don’t Even Know ...</td>\n",
       "      <td>Defeating Racism One Conversation at a Time</td>\n",
       "      <td>There's something to be said for talking, and ...</td>\n",
       "      <td>One of the questions I’m asked most is: How do...</td>\n",
       "      <td>[{'name': 'subject', 'value': 'Discrimination'...</td>\n",
       "    </tr>\n",
       "    <tr>\n",
       "      <th>1063</th>\n",
       "      <td>172</td>\n",
       "      <td>dementia</td>\n",
       "      <td>2021</td>\n",
       "      <td>The New York Times</td>\n",
       "      <td>Many Common Medications Can Raise Your Blood P...</td>\n",
       "      <td>Many Medications Can Raise Blood Pressure</td>\n",
       "      <td>Popular pain relievers and antidepressants, as...</td>\n",
       "      <td>High blood pressure remains a leading cause of...</td>\n",
       "      <td>[{'name': 'subject', 'value': 'Salt', 'rank': ...</td>\n",
       "    </tr>\n",
       "    <tr>\n",
       "      <th>1064</th>\n",
       "      <td>282</td>\n",
       "      <td>dementia</td>\n",
       "      <td>2021</td>\n",
       "      <td>The New York Times</td>\n",
       "      <td>Read the Proposed N.F.L. Concussion Settlement</td>\n",
       "      <td>NaN</td>\n",
       "      <td>Lawyers for the N.F.L. and former players file...</td>\n",
       "      <td>Lawyers for the N.F.L. and former players file...</td>\n",
       "      <td>[{'name': 'subject', 'value': 'Concussions', '...</td>\n",
       "    </tr>\n",
       "    <tr>\n",
       "      <th>1065</th>\n",
       "      <td>284</td>\n",
       "      <td>dementia</td>\n",
       "      <td>2021</td>\n",
       "      <td>The New York Times</td>\n",
       "      <td>‘I Feel Like I’m Just Drowning’: Sophomore Yea...</td>\n",
       "      <td>‘I Feel Like I’m Just Drowning’</td>\n",
       "      <td>A group of high school students try desperatel...</td>\n",
       "      <td>On Aug. 11, Sarah, a cheerleader at Hickman Hi...</td>\n",
       "      <td>[{'name': 'subject', 'value': 'Coronavirus (20...</td>\n",
       "    </tr>\n",
       "  </tbody>\n",
       "</table>\n",
       "<p>1066 rows × 9 columns</p>\n",
       "</div>"
      ],
      "text/plain": [
       "      Unnamed: 0     query  pub_date                        source  \\\n",
       "0              0  dementia      1995  International Herald Tribune   \n",
       "1              5  dementia      1995            The New York Times   \n",
       "2             17  dementia      1995            The New York Times   \n",
       "3             41  dementia      1995            The New York Times   \n",
       "4              0  dementia      1996            The New York Times   \n",
       "...          ...       ...       ...                           ...   \n",
       "1061          85  dementia      2021            The New York Times   \n",
       "1062         136  dementia      2021            The New York Times   \n",
       "1063         172  dementia      2021            The New York Times   \n",
       "1064         282  dementia      2021            The New York Times   \n",
       "1065         284  dementia      2021            The New York Times   \n",
       "\n",
       "                                              headline1  \\\n",
       "0     1920:Religious Dementia : IN OUR PAGES:100, 75...   \n",
       "1        Friends, Romans, Police Greet Seles for Return   \n",
       "2                                       ENDPAPER;PJ Day   \n",
       "3                                          ON THE TOWNS   \n",
       "4        THEATER REVIEW;A Monarch's Slide Into Dementia   \n",
       "...                                                 ...   \n",
       "1061  Tiny Love Stories: ‘My Body Told a Different S...   \n",
       "1062  ‘How Can You Hate Me When You Don’t Even Know ...   \n",
       "1063  Many Common Medications Can Raise Your Blood P...   \n",
       "1064     Read the Proposed N.F.L. Concussion Settlement   \n",
       "1065  ‘I Feel Like I’m Just Drowning’: Sophomore Yea...   \n",
       "\n",
       "                                              headline2  \\\n",
       "0     1920:Religious Dementia : IN OUR PAGES:100, 75...   \n",
       "1     TENNIS; Friends, Romans, Police Greet Seles fo...   \n",
       "2                                       ENDPAPER;PJ Day   \n",
       "3                                          ON THE TOWNS   \n",
       "4        THEATER REVIEW;A Monarch's Slide Into Dementia   \n",
       "...                                                 ...   \n",
       "1061                                                NaN   \n",
       "1062        Defeating Racism One Conversation at a Time   \n",
       "1063          Many Medications Can Raise Blood Pressure   \n",
       "1064                                                NaN   \n",
       "1065                    ‘I Feel Like I’m Just Drowning’   \n",
       "\n",
       "                                                snippet  \\\n",
       "0     HALLE, Saxony - It is learned that the little ...   \n",
       "1                                                   NaN   \n",
       "2                                                   NaN   \n",
       "3                                                   NaN   \n",
       "4                                                   NaN   \n",
       "...                                                 ...   \n",
       "1061  Modern Love in miniature, featuring reader-sub...   \n",
       "1062  There's something to be said for talking, and ...   \n",
       "1063  Popular pain relievers and antidepressants, as...   \n",
       "1064  Lawyers for the N.F.L. and former players file...   \n",
       "1065  A group of high school students try desperatel...   \n",
       "\n",
       "                                         lead_paragraph  \\\n",
       "0     HALLE, Saxony - It is learned that the little ...   \n",
       "1     Finally, on the eve of Seles versus Navratilov...   \n",
       "2     It started with Vincent (the Chin). For about ...   \n",
       "3     An opinionated guide to cultural and recreatio...   \n",
       "4     It is kindest, perhaps, to think of it as mere...   \n",
       "...                                                 ...   \n",
       "1061  The day my 80-year-old mother announced she wa...   \n",
       "1062  One of the questions I’m asked most is: How do...   \n",
       "1063  High blood pressure remains a leading cause of...   \n",
       "1064  Lawyers for the N.F.L. and former players file...   \n",
       "1065  On Aug. 11, Sarah, a cheerleader at Hickman Hi...   \n",
       "\n",
       "                                               keywords  \n",
       "0                                                    []  \n",
       "1     [{'name': 'persons', 'value': 'Seles, Monica',...  \n",
       "2     [{'name': 'glocations', 'value': 'New York Cit...  \n",
       "3     [{'name': 'glocations', 'value': 'New Jersey',...  \n",
       "4     [{'name': 'organizations', 'value': 'PAPP, JOS...  \n",
       "...                                                 ...  \n",
       "1061  [{'name': 'subject', 'value': 'Love (Emotion)'...  \n",
       "1062  [{'name': 'subject', 'value': 'Discrimination'...  \n",
       "1063  [{'name': 'subject', 'value': 'Salt', 'rank': ...  \n",
       "1064  [{'name': 'subject', 'value': 'Concussions', '...  \n",
       "1065  [{'name': 'subject', 'value': 'Coronavirus (20...  \n",
       "\n",
       "[1066 rows x 9 columns]"
      ]
     },
     "execution_count": 3,
     "metadata": {},
     "output_type": "execute_result"
    }
   ],
   "source": [
    "df = pd.read_csv(r'C:\\Users\\Vanessa\\Downloads\\Dados\\Programas\\Repositório Git\\DataVisualization_Dementia\\DATASETS\\NY times (dementia)\\dementia.csv')\n",
    "df"
   ]
  },
  {
   "cell_type": "code",
   "execution_count": 21,
   "id": "fd1d5605",
   "metadata": {
    "ExecuteTime": {
     "end_time": "2023-02-10T15:26:16.282499Z",
     "start_time": "2023-02-10T15:26:13.293904Z"
    }
   },
   "outputs": [
    {
     "data": {
      "text/plain": [
       "<wordcloud.wordcloud.WordCloud at 0x1eb43ae5490>"
      ]
     },
     "execution_count": 21,
     "metadata": {},
     "output_type": "execute_result"
    }
   ],
   "source": [
    "# creting clouds from types od dementia\n",
    "\n",
    "# lewy body, alzheimer, frontotemporal dementia, vascular dementia \n",
    "\n",
    "query = 'lewy body'\n",
    "mask = (df['headline1'].str.contains(f'{query}', flags = re.I) | df['headline2'].str.contains(f'{query}', flags = re.I)| df['snippet'].str.contains(f'{query}', flags = re.I) | df['lead_paragraph'].str.contains(f'{query}', flags = re.I) |  df['keywords'].astype(str).str.contains(f'{query}', flags = re.I))\n",
    "dem_type = df[mask]\n",
    "text = dem_type['lead_paragraph'].str.lower().str.cat()\n",
    "stopwords = set(STOPWORDS)\n",
    "stopwords.update(['new', 'york', 'alzheimer', 'will', 'made', 'dementia', 's', 'ny', 'p', 'm', 'one'])\n",
    "wordcloud = WordCloud(stopwords = stopwords,width=1600, height=800, background_color = None, mode='RGBA').generate(text)\n",
    "wordcloud.to_file(f\"{query}.png\")"
   ]
  },
  {
   "cell_type": "code",
   "execution_count": null,
   "id": "6db9195a",
   "metadata": {
    "ExecuteTime": {
     "end_time": "2023-02-10T14:53:40.440493Z",
     "start_time": "2023-02-10T14:53:40.440493Z"
    }
   },
   "outputs": [],
   "source": [
    "a"
   ]
  },
  {
   "cell_type": "code",
   "execution_count": 11,
   "id": "88ff8922",
   "metadata": {
    "ExecuteTime": {
     "end_time": "2023-02-10T14:25:27.630002Z",
     "start_time": "2023-02-10T14:25:27.623540Z"
    }
   },
   "outputs": [],
   "source": []
  },
  {
   "cell_type": "code",
   "execution_count": 12,
   "id": "dfbd5914",
   "metadata": {
    "ExecuteTime": {
     "end_time": "2023-02-10T14:25:30.776932Z",
     "start_time": "2023-02-10T14:25:29.547752Z"
    }
   },
   "outputs": [],
   "source": []
  }
 ],
 "metadata": {
  "kernelspec": {
   "display_name": "Python 3 (ipykernel)",
   "language": "python",
   "name": "python3"
  },
  "language_info": {
   "codemirror_mode": {
    "name": "ipython",
    "version": 3
   },
   "file_extension": ".py",
   "mimetype": "text/x-python",
   "name": "python",
   "nbconvert_exporter": "python",
   "pygments_lexer": "ipython3",
   "version": "3.9.12"
  },
  "toc": {
   "base_numbering": 1,
   "nav_menu": {},
   "number_sections": true,
   "sideBar": true,
   "skip_h1_title": false,
   "title_cell": "Table of Contents",
   "title_sidebar": "Contents",
   "toc_cell": false,
   "toc_position": {},
   "toc_section_display": true,
   "toc_window_display": false
  },
  "varInspector": {
   "cols": {
    "lenName": 16,
    "lenType": 16,
    "lenVar": 40
   },
   "kernels_config": {
    "python": {
     "delete_cmd_postfix": "",
     "delete_cmd_prefix": "del ",
     "library": "var_list.py",
     "varRefreshCmd": "print(var_dic_list())"
    },
    "r": {
     "delete_cmd_postfix": ") ",
     "delete_cmd_prefix": "rm(",
     "library": "var_list.r",
     "varRefreshCmd": "cat(var_dic_list()) "
    }
   },
   "types_to_exclude": [
    "module",
    "function",
    "builtin_function_or_method",
    "instance",
    "_Feature"
   ],
   "window_display": false
  }
 },
 "nbformat": 4,
 "nbformat_minor": 5
}

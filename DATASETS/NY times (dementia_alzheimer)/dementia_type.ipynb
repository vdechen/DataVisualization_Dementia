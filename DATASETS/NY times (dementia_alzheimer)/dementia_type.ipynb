{
 "cells": [
  {
   "cell_type": "code",
   "execution_count": 1,
   "id": "e17b99c6",
   "metadata": {
    "ExecuteTime": {
     "end_time": "2023-02-10T21:42:58.791375Z",
     "start_time": "2023-02-10T21:42:58.154727Z"
    }
   },
   "outputs": [],
   "source": [
    "#importing libraries and files\n",
    "import pandas as pd\n",
    "import numpy as np\n",
    "import re\n",
    "\n",
    "query = 'dementia'\n",
    "all_queries = pd.read_csv(r\"C:\\Users\\Vanessa\\Downloads\\Dados\\Programas\\Repositório Git\\DataVisualization_Dementia\\DataVisualization_Dementia\\DATASETS\\NY times (dementia_alzheimer)\\dementia_alzheimer.csv\")"
   ]
  },
  {
   "cell_type": "code",
   "execution_count": 2,
   "id": "d5376c83",
   "metadata": {
    "ExecuteTime": {
     "end_time": "2023-02-10T21:43:01.884836Z",
     "start_time": "2023-02-10T21:42:58.793886Z"
    }
   },
   "outputs": [
    {
     "name": "stdout",
     "output_type": "stream",
     "text": [
      "Requirement already satisfied: matplotlib-venn in c:\\users\\vanessa\\appdata\\roaming\\python\\python39\\site-packages (0.11.7)\n",
      "Requirement already satisfied: matplotlib in c:\\users\\vanessa\\anaconda3\\lib\\site-packages (from matplotlib-venn) (3.5.1)\n",
      "Requirement already satisfied: numpy in c:\\users\\vanessa\\anaconda3\\lib\\site-packages (from matplotlib-venn) (1.22.4)\n",
      "Requirement already satisfied: scipy in c:\\users\\vanessa\\anaconda3\\lib\\site-packages (from matplotlib-venn) (1.7.3)\n",
      "Requirement already satisfied: kiwisolver>=1.0.1 in c:\\users\\vanessa\\anaconda3\\lib\\site-packages (from matplotlib->matplotlib-venn) (1.3.2)\n",
      "Requirement already satisfied: fonttools>=4.22.0 in c:\\users\\vanessa\\anaconda3\\lib\\site-packages (from matplotlib->matplotlib-venn) (4.25.0)\n",
      "Requirement already satisfied: cycler>=0.10 in c:\\users\\vanessa\\anaconda3\\lib\\site-packages (from matplotlib->matplotlib-venn) (0.11.0)\n",
      "Requirement already satisfied: pillow>=6.2.0 in c:\\users\\vanessa\\anaconda3\\lib\\site-packages (from matplotlib->matplotlib-venn) (9.0.1)\n",
      "Requirement already satisfied: pyparsing>=2.2.1 in c:\\users\\vanessa\\anaconda3\\lib\\site-packages (from matplotlib->matplotlib-venn) (3.0.4)\n",
      "Requirement already satisfied: python-dateutil>=2.7 in c:\\users\\vanessa\\anaconda3\\lib\\site-packages (from matplotlib->matplotlib-venn) (2.8.2)\n",
      "Requirement already satisfied: packaging>=20.0 in c:\\users\\vanessa\\anaconda3\\lib\\site-packages (from matplotlib->matplotlib-venn) (21.3)\n",
      "Requirement already satisfied: six>=1.5 in c:\\users\\vanessa\\anaconda3\\lib\\site-packages (from python-dateutil>=2.7->matplotlib->matplotlib-venn) (1.16.0)\n",
      "Note: you may need to restart the kernel to use updated packages.\n"
     ]
    }
   ],
   "source": [
    "pip install matplotlib-venn --user"
   ]
  },
  {
   "cell_type": "code",
   "execution_count": 3,
   "id": "3fe4da6f",
   "metadata": {
    "ExecuteTime": {
     "end_time": "2023-02-10T21:43:01.899878Z",
     "start_time": "2023-02-10T21:43:01.888348Z"
    }
   },
   "outputs": [],
   "source": [
    "all_queries['dementia_type'] = [[]]*len(all_queries)"
   ]
  },
  {
   "cell_type": "code",
   "execution_count": 4,
   "id": "3c1730ba",
   "metadata": {
    "ExecuteTime": {
     "end_time": "2023-02-10T21:43:02.050562Z",
     "start_time": "2023-02-10T21:43:01.902868Z"
    }
   },
   "outputs": [],
   "source": [
    "# checking for other dementia-related termns in all_queries dataframe\n",
    "\n",
    "# ‘mild cognitive impairment 15’\n",
    "# ‘dementia’\n",
    "# 'alzheimer'\n",
    "# ‘vascular dementia’\n",
    "# ‘frontotemporal dementia’\n",
    "# ‘lewy body'\n",
    "\n",
    "for term in ['alzheimer', 'vascular dementia', 'frontotemporal dementia', 'lewy body']:\n",
    "    mask = (all_queries['headline1'].str.contains(f'{term}', flags = re.I) | all_queries['headline2'].str.contains(f'{term}', flags = re.I)| all_queries['snippet'].str.contains(f'{term}', flags = re.I) |all_queries['lead_paragraph'].str.contains(f'{term}', flags = re.I) | all_queries['keywords'].astype(str).str.contains(f'{term}', flags = re.I))\n",
    "    all_queries.loc[mask, 'dementia_type'] = all_queries.loc[mask, 'dementia_type'].apply(lambda x: x + [term])\n"
   ]
  },
  {
   "cell_type": "code",
   "execution_count": 5,
   "id": "443a6331",
   "metadata": {
    "ExecuteTime": {
     "end_time": "2023-02-10T21:43:02.065552Z",
     "start_time": "2023-02-10T21:43:02.053036Z"
    }
   },
   "outputs": [
    {
     "data": {
      "text/plain": [
       "[alzheimer]                             2543\n",
       "[]                                       647\n",
       "[alzheimer, frontotemporal dementia]      12\n",
       "[frontotemporal dementia]                  8\n",
       "[lewy body]                                6\n",
       "[vascular dementia]                        5\n",
       "[alzheimer, vascular dementia]             5\n",
       "[alzheimer, lewy body]                     1\n",
       "Name: dementia_type, dtype: int64"
      ]
     },
     "execution_count": 5,
     "metadata": {},
     "output_type": "execute_result"
    }
   ],
   "source": [
    "all_queries['dementia_type'].value_counts()"
   ]
  },
  {
   "cell_type": "code",
   "execution_count": 6,
   "id": "4c6caf4f",
   "metadata": {
    "ExecuteTime": {
     "end_time": "2023-02-10T21:43:02.081079Z",
     "start_time": "2023-02-10T21:43:02.066552Z"
    }
   },
   "outputs": [],
   "source": [
    "all_queries = all_queries.explode('dementia_type')"
   ]
  },
  {
   "cell_type": "code",
   "execution_count": 7,
   "id": "4234a27f",
   "metadata": {
    "ExecuteTime": {
     "end_time": "2023-02-10T21:43:02.187995Z",
     "start_time": "2023-02-10T21:43:02.083595Z"
    }
   },
   "outputs": [],
   "source": [
    "all_queries.to_csv('dementia_subtype.csv', index = False)"
   ]
  },
  {
   "cell_type": "code",
   "execution_count": 9,
   "id": "5f1f0859",
   "metadata": {
    "ExecuteTime": {
     "end_time": "2023-02-10T21:45:22.954850Z",
     "start_time": "2023-02-10T21:45:22.845493Z"
    }
   },
   "outputs": [
    {
     "data": {
      "text/plain": [
       "<matplotlib_venn._common.VennDiagram at 0x1c2099ac7f0>"
      ]
     },
     "execution_count": 9,
     "metadata": {},
     "output_type": "execute_result"
    },
    {
     "data": {
      "image/png": "[encoded data removed]",
      "text/plain": [
       "<Figure size 432x288 with 1 Axes>"
      ]
     },
     "metadata": {},
     "output_type": "display_data"
    }
   ],
   "source": [
    "from matplotlib_venn import venn3\n",
    "venn3(subsets = (2543, 8, 12, 5, 5, 0, 0))"
   ]
  }
 ],
 "metadata": {
  "kernelspec": {
   "display_name": "Python 3 (ipykernel)",
   "language": "python",
   "name": "python3"
  },
  "language_info": {
   "codemirror_mode": {
    "name": "ipython",
    "version": 3
   },
   "file_extension": ".py",
   "mimetype": "text/x-python",
   "name": "python",
   "nbconvert_exporter": "python",
   "pygments_lexer": "ipython3",
   "version": "3.9.12"
  },
  "toc": {
   "base_numbering": 1,
   "nav_menu": {},
   "number_sections": true,
   "sideBar": true,
   "skip_h1_title": false,
   "title_cell": "Table of Contents",
   "title_sidebar": "Contents",
   "toc_cell": false,
   "toc_position": {},
   "toc_section_display": true,
   "toc_window_display": false
  },
  "varInspector": {
   "cols": {
    "lenName": 16,
    "lenType": 16,
    "lenVar": 40
   },
   "kernels_config": {
    "python": {
     "delete_cmd_postfix": "",
     "delete_cmd_prefix": "del ",
     "library": "var_list.py",
     "varRefreshCmd": "print(var_dic_list())"
    },
    "r": {
     "delete_cmd_postfix": ") ",
     "delete_cmd_prefix": "rm(",
     "library": "var_list.r",
     "varRefreshCmd": "cat(var_dic_list()) "
    }
   },
   "types_to_exclude": [
    "module",
    "function",
    "builtin_function_or_method",
    "instance",
    "_Feature"
   ],
   "window_display": false
  }
 },
 "nbformat": 4,
 "nbformat_minor": 5
}

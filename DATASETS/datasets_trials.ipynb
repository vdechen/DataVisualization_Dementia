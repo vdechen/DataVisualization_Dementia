{
 "cells": [
  {
   "cell_type": "code",
   "execution_count": 10,
   "id": "d65ae035",
   "metadata": {
    "ExecuteTime": {
     "end_time": "2023-02-10T11:38:21.950029Z",
     "start_time": "2023-02-10T11:38:21.931859Z"
    }
   },
   "outputs": [],
   "source": [
    "import pandas as pd\n",
    "import re"
   ]
  },
  {
   "cell_type": "code",
   "execution_count": 16,
   "id": "dbba6478",
   "metadata": {
    "ExecuteTime": {
     "end_time": "2023-02-10T11:42:01.515637Z",
     "start_time": "2023-02-10T11:42:01.491313Z"
    }
   },
   "outputs": [],
   "source": [
    "df = pd.read_csv(r\"C:\\Users\\Vanessa\\Downloads\\Ironhack\\M02-L05-introduction_to_API\\DATASETS\\imdb_top_1000.csv\")"
   ]
  },
  {
   "cell_type": "code",
   "execution_count": 17,
   "id": "ec5694f5",
   "metadata": {
    "ExecuteTime": {
     "end_time": "2023-02-10T11:42:03.494724Z",
     "start_time": "2023-02-10T11:42:03.479094Z"
    }
   },
   "outputs": [
    {
     "data": {
      "text/plain": [
       "Index(['Poster_Link', 'Series_Title', 'Released_Year', 'Certificate',\n",
       "       'Runtime', 'Genre', 'IMDB_Rating', 'Overview', 'Meta_score', 'Director',\n",
       "       'Star1', 'Star2', 'Star3', 'Star4', 'No_of_Votes', 'Gross'],\n",
       "      dtype='object')"
      ]
     },
     "execution_count": 17,
     "metadata": {},
     "output_type": "execute_result"
    }
   ],
   "source": [
    "df.columns"
   ]
  },
  {
   "cell_type": "code",
   "execution_count": 20,
   "id": "c4904ef3",
   "metadata": {
    "ExecuteTime": {
     "end_time": "2023-02-10T11:43:22.221541Z",
     "start_time": "2023-02-10T11:43:22.207824Z"
    }
   },
   "outputs": [],
   "source": [
    "term = 'dementia'\n",
    "mask = (df['Genre'].str.contains(f'{term}', flags = re.I) | df['Overview'].str.contains(f'{term}', flags = re.I) | df['Series_Title'].str.contains(f'{term}', flags = re.I))                                                                                                                         "
   ]
  },
  {
   "cell_type": "code",
   "execution_count": 21,
   "id": "40c76855",
   "metadata": {
    "ExecuteTime": {
     "end_time": "2023-02-10T11:43:23.905040Z",
     "start_time": "2023-02-10T11:43:23.892016Z"
    }
   },
   "outputs": [
    {
     "data": {
      "text/html": [
       "<div>\n",
       "<style scoped>\n",
       "    .dataframe tbody tr th:only-of-type {\n",
       "        vertical-align: middle;\n",
       "    }\n",
       "\n",
       "    .dataframe tbody tr th {\n",
       "        vertical-align: top;\n",
       "    }\n",
       "\n",
       "    .dataframe thead th {\n",
       "        text-align: right;\n",
       "    }\n",
       "</style>\n",
       "<table border=\"1\" class=\"dataframe\">\n",
       "  <thead>\n",
       "    <tr style=\"text-align: right;\">\n",
       "      <th></th>\n",
       "      <th>Poster_Link</th>\n",
       "      <th>Series_Title</th>\n",
       "      <th>Released_Year</th>\n",
       "      <th>Certificate</th>\n",
       "      <th>Runtime</th>\n",
       "      <th>Genre</th>\n",
       "      <th>IMDB_Rating</th>\n",
       "      <th>Overview</th>\n",
       "      <th>Meta_score</th>\n",
       "      <th>Director</th>\n",
       "      <th>Star1</th>\n",
       "      <th>Star2</th>\n",
       "      <th>Star3</th>\n",
       "      <th>Star4</th>\n",
       "      <th>No_of_Votes</th>\n",
       "      <th>Gross</th>\n",
       "    </tr>\n",
       "  </thead>\n",
       "  <tbody>\n",
       "  </tbody>\n",
       "</table>\n",
       "</div>"
      ],
      "text/plain": [
       "Empty DataFrame\n",
       "Columns: [Poster_Link, Series_Title, Released_Year, Certificate, Runtime, Genre, IMDB_Rating, Overview, Meta_score, Director, Star1, Star2, Star3, Star4, No_of_Votes, Gross]\n",
       "Index: []"
      ]
     },
     "execution_count": 21,
     "metadata": {},
     "output_type": "execute_result"
    }
   ],
   "source": [
    "df2 = df[mask]\n",
    "df2"
   ]
  }
 ],
 "metadata": {
  "kernelspec": {
   "display_name": "Python 3 (ipykernel)",
   "language": "python",
   "name": "python3"
  },
  "language_info": {
   "codemirror_mode": {
    "name": "ipython",
    "version": 3
   },
   "file_extension": ".py",
   "mimetype": "text/x-python",
   "name": "python",
   "nbconvert_exporter": "python",
   "pygments_lexer": "ipython3",
   "version": "3.9.12"
  },
  "toc": {
   "base_numbering": 1,
   "nav_menu": {},
   "number_sections": true,
   "sideBar": true,
   "skip_h1_title": false,
   "title_cell": "Table of Contents",
   "title_sidebar": "Contents",
   "toc_cell": false,
   "toc_position": {},
   "toc_section_display": true,
   "toc_window_display": false
  },
  "varInspector": {
   "cols": {
    "lenName": 16,
    "lenType": 16,
    "lenVar": 40
   },
   "kernels_config": {
    "python": {
     "delete_cmd_postfix": "",
     "delete_cmd_prefix": "del ",
     "library": "var_list.py",
     "varRefreshCmd": "print(var_dic_list())"
    },
    "r": {
     "delete_cmd_postfix": ") ",
     "delete_cmd_prefix": "rm(",
     "library": "var_list.r",
     "varRefreshCmd": "cat(var_dic_list()) "
    }
   },
   "types_to_exclude": [
    "module",
    "function",
    "builtin_function_or_method",
    "instance",
    "_Feature"
   ],
   "window_display": false
  }
 },
 "nbformat": 4,
 "nbformat_minor": 5
}
